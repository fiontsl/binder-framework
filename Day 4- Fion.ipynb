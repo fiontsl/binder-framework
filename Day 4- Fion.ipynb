{
 "cells": [
  {
   "cell_type": "markdown",
   "id": "62d68019",
   "metadata": {},
   "source": [
    "How many different companies are represented in the data set?\n",
    "\n",
    "What is the total number of jobs created for businesses in Queens?\n",
    "\n",
    "How many different unique email domains names are there in the data set?\n",
    "\n",
    "Considering only NTAs with at least 5 listed businesses, what is the average total savings and the total jobs created for each NTA?\n",
    "\n",
    "Save your result for the previous question as a CSV file."
   ]
  },
  {
   "cell_type": "code",
   "execution_count": 1,
   "id": "1e2e277a",
   "metadata": {},
   "outputs": [],
   "source": [
    "import pandas as pd"
   ]
  },
  {
   "cell_type": "code",
   "execution_count": 7,
   "id": "aed4e226",
   "metadata": {},
   "outputs": [],
   "source": [
    "df = pd.read_csv(\"Value_of_Energy_Cost_Savings_Program_Savings_for_Businesses_-_FY2020.csv\")"
   ]
  },
  {
   "cell_type": "code",
   "execution_count": 8,
   "id": "1c34b2b3",
   "metadata": {},
   "outputs": [
    {
     "name": "stdout",
     "output_type": "stream",
     "text": [
      "<class 'pandas.core.frame.DataFrame'>\n",
      "RangeIndex: 450 entries, 0 to 449\n",
      "Data columns (total 26 columns):\n",
      " #   Column                                     Non-Null Count  Dtype  \n",
      "---  ------                                     --------------  -----  \n",
      " 0   Company Name                               450 non-null    object \n",
      " 1   company contact                            450 non-null    object \n",
      " 2   company email                              433 non-null    object \n",
      " 3   company phone                              450 non-null    object \n",
      " 4   Address                                    450 non-null    object \n",
      " 5   City                                       450 non-null    object \n",
      " 6   State                                      450 non-null    object \n",
      " 7   Postcode                                   450 non-null    int64  \n",
      " 8   Industry                                   450 non-null    object \n",
      " 9   Industry descr                             434 non-null    object \n",
      " 10  Company Type                               450 non-null    object \n",
      " 11  Current fulltime                           446 non-null    float64\n",
      " 12  Job created                                11 non-null     float64\n",
      " 13  Job retain                                 14 non-null     float64\n",
      " 14  Effective Date                             450 non-null    object \n",
      " 15  Total Savings                              450 non-null    float64\n",
      " 16  Savings from beginning receiving benefits  450 non-null    float64\n",
      " 17  Borough                                    450 non-null    object \n",
      " 18  Latitude                                   409 non-null    float64\n",
      " 19  Longitude                                  409 non-null    float64\n",
      " 20  Community Board                            409 non-null    float64\n",
      " 21  Council District                           409 non-null    float64\n",
      " 22  Census Tract                               409 non-null    float64\n",
      " 23  BIN                                        401 non-null    float64\n",
      " 24  BBL                                        401 non-null    float64\n",
      " 25  NTA                                        409 non-null    object \n",
      "dtypes: float64(12), int64(1), object(13)\n",
      "memory usage: 91.5+ KB\n"
     ]
    }
   ],
   "source": [
    "df.info()"
   ]
  },
  {
   "cell_type": "code",
   "execution_count": 14,
   "id": "7fc26cfc",
   "metadata": {},
   "outputs": [
    {
     "data": {
      "text/plain": [
       "439"
      ]
     },
     "execution_count": 14,
     "metadata": {},
     "output_type": "execute_result"
    }
   ],
   "source": [
    "# How many different companies are represented in the data set?\n",
    "count_company= df['Company Name'].nunique()\n",
    "count_company"
   ]
  },
  {
   "cell_type": "code",
   "execution_count": 18,
   "id": "91761e90",
   "metadata": {},
   "outputs": [
    {
     "data": {
      "text/plain": [
       "102.0"
      ]
     },
     "execution_count": 18,
     "metadata": {},
     "output_type": "execute_result"
    }
   ],
   "source": [
    "# What is the total number of jobs created for businesses in Queens?\n",
    "df.loc[df['Borough'] == 'Queens', 'Job created'].sum()"
   ]
  },
  {
   "cell_type": "code",
   "execution_count": 25,
   "id": "0d6f1869",
   "metadata": {},
   "outputs": [
    {
     "data": {
      "text/plain": [
       "357"
      ]
     },
     "execution_count": 25,
     "metadata": {},
     "output_type": "execute_result"
    }
   ],
   "source": [
    "# How many different unique email domains names are there in the data set?\n",
    "df[['email', 'domain']]= df['company email'].str.split('@', expand=True)\n",
    "count_domain= df['domain'].nunique()\n",
    "count_domain"
   ]
  },
  {
   "cell_type": "code",
   "execution_count": 26,
   "id": "58dead36",
   "metadata": {},
   "outputs": [
    {
     "data": {
      "text/plain": [
       "0                                                Midwood\n",
       "1                 SoHo-TriBeCa-Civic Center-Little Italy\n",
       "2                      Battery Park City-Lower Manhattan\n",
       "3                                       Sunset Park West\n",
       "4                      Battery Park City-Lower Manhattan\n",
       "                             ...                        \n",
       "445                                       Bushwick South\n",
       "446                                       Bushwick South\n",
       "447    Mariner's Harbor-Arlington-Port Ivory-Granitev...\n",
       "448                                  Crown Heights North\n",
       "449                                              Astoria\n",
       "Name: NTA, Length: 450, dtype: object"
      ]
     },
     "execution_count": 26,
     "metadata": {},
     "output_type": "execute_result"
    }
   ],
   "source": [
    "df['NTA']"
   ]
  },
  {
   "cell_type": "code",
   "execution_count": 29,
   "id": "b79396b3",
   "metadata": {},
   "outputs": [
    {
     "data": {
      "text/plain": [
       "NTA\n",
       "Astoria                               3\n",
       "Baisley Park                          1\n",
       "Battery Park City-Lower Manhattan     9\n",
       "Bedford                               3\n",
       "Bensonhurst West                      1\n",
       "                                     ..\n",
       "Whitestone                            3\n",
       "Williamsburg                          1\n",
       "Windsor Terrace                       1\n",
       "Woodside                              3\n",
       "park-cemetery-etc-Brooklyn           15\n",
       "Name: Company Name, Length: 79, dtype: int64"
      ]
     },
     "execution_count": 29,
     "metadata": {},
     "output_type": "execute_result"
    }
   ],
   "source": [
    "df2 = df.groupby(['NTA'])['Company Name'].count()\n",
    "df2"
   ]
  },
  {
   "cell_type": "code",
   "execution_count": 33,
   "id": "def7284a",
   "metadata": {},
   "outputs": [
    {
     "name": "stdout",
     "output_type": "stream",
     "text": [
      "                                   Company Name  Total Savings  Job created\n",
      "NTA                                                                        \n",
      "Astoria                                       3   11409.986667          0.0\n",
      "Baisley Park                                  1   21522.740000          0.0\n",
      "Battery Park City-Lower Manhattan             9  469890.796667          0.0\n",
      "Bedford                                       3   62113.343333          0.0\n",
      "Bensonhurst West                              1    -379.470000          0.0\n",
      "...                                         ...            ...          ...\n",
      "Whitestone                                    3   62038.306667         10.0\n",
      "Williamsburg                                  1   23570.080000          0.0\n",
      "Windsor Terrace                               1   78573.320000          0.0\n",
      "Woodside                                      3    5625.736667          0.0\n",
      "park-cemetery-etc-Brooklyn                   15   14327.419333          0.0\n",
      "\n",
      "[79 rows x 3 columns]\n"
     ]
    }
   ],
   "source": [
    "result = df.groupby('NTA').aggregate({'Company Name':'count','Total Savings':'mean','Job created':'sum'})\n",
    "print(result)"
   ]
  },
  {
   "cell_type": "code",
   "execution_count": 36,
   "id": "bc77a78b",
   "metadata": {},
   "outputs": [
    {
     "name": "stdout",
     "output_type": "stream",
     "text": [
      "                                                  Company Name  Total Savings  \\\n",
      "NTA                                                                             \n",
      "Battery Park City-Lower Manhattan                            9  469890.796667   \n",
      "Bushwick South                                              10   26140.455000   \n",
      "Carroll Gardens-Columbia Street-Red Hook                    11   24337.390000   \n",
      "College Point                                                7   17159.372857   \n",
      "Crown Heights North                                          9    4036.298889   \n",
      "DUMBO-Vinegar Hill-Downtown Brooklyn-Boerum Hill            10   59950.340000   \n",
      "East New York                                                9   48433.093333   \n",
      "East Williamsburg                                           11   13990.626364   \n",
      "Greenpoint                                                  14    9753.649286   \n",
      "Hunters Point-Sunnyside-West Maspeth                        75   23931.398933   \n",
      "Hunts Point                                                 13   39246.016154   \n",
      "Manhattanville                                               9    2760.888889   \n",
      "Maspeth                                                      9    6658.283333   \n",
      "Mott Haven-Port Morris                                      14   17843.937857   \n",
      "Queensbridge-Ravenswood-Long Island City                    16   61830.770625   \n",
      "Steinway                                                     7   11227.155714   \n",
      "Sunset Park West                                            48   14316.976875   \n",
      "park-cemetery-etc-Brooklyn                                  15   14327.419333   \n",
      "\n",
      "                                                  Job created  \n",
      "NTA                                                            \n",
      "Battery Park City-Lower Manhattan                         0.0  \n",
      "Bushwick South                                           10.0  \n",
      "Carroll Gardens-Columbia Street-Red Hook                  0.0  \n",
      "College Point                                             2.0  \n",
      "Crown Heights North                                       0.0  \n",
      "DUMBO-Vinegar Hill-Downtown Brooklyn-Boerum Hill          0.0  \n",
      "East New York                                            15.0  \n",
      "East Williamsburg                                         0.0  \n",
      "Greenpoint                                                0.0  \n",
      "Hunters Point-Sunnyside-West Maspeth                      0.0  \n",
      "Hunts Point                                              12.0  \n",
      "Manhattanville                                            0.0  \n",
      "Maspeth                                                  10.0  \n",
      "Mott Haven-Port Morris                                   10.0  \n",
      "Queensbridge-Ravenswood-Long Island City                  0.0  \n",
      "Steinway                                                 20.0  \n",
      "Sunset Park West                                          0.0  \n",
      "park-cemetery-etc-Brooklyn                                0.0  \n"
     ]
    }
   ],
   "source": [
    "result = result[result['Company Name']>4]\n",
    "print(result)"
   ]
  }
 ],
 "metadata": {
  "kernelspec": {
   "display_name": "Python 3",
   "language": "python",
   "name": "python3"
  },
  "language_info": {
   "codemirror_mode": {
    "name": "ipython",
    "version": 3
   },
   "file_extension": ".py",
   "mimetype": "text/x-python",
   "name": "python",
   "nbconvert_exporter": "python",
   "pygments_lexer": "ipython3",
   "version": "3.6.15"
  }
 },
 "nbformat": 4,
 "nbformat_minor": 5
}
